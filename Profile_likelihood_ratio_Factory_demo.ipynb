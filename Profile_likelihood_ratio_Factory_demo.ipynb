{
 "cells": [
  {
   "cell_type": "code",
   "execution_count": 31,
   "metadata": {
    "collapsed": false
   },
   "outputs": [
    {
     "name": "stdout",
     "output_type": "stream",
     "text": [
      "The autoreload extension is already loaded. To reload it, use:\n",
      "  %reload_ext autoreload\n"
     ]
    }
   ],
   "source": [
    "## not needed but allows to reload new version of Profile_likelihood_ratio.py at import\n",
    "%load_ext autoreload\n",
    "%autoreload 2"
   ]
  },
  {
   "cell_type": "code",
   "execution_count": 32,
   "metadata": {
    "collapsed": false
   },
   "outputs": [],
   "source": [
    "import numpy as np\n",
    "import scipy as sp\n",
    "import pandas as pd\n",
    "import matplotlib.pyplot as plt\n",
    "from scipy.optimize import minimize as sp_minimize\n",
    "%matplotlib inline"
   ]
  },
  {
   "cell_type": "code",
   "execution_count": 33,
   "metadata": {
    "collapsed": false
   },
   "outputs": [],
   "source": [
    "from Profile_likelihood_ratio import Profile_likelihood_ratio, Profile_likelihood_ratio_Factory\n",
    "from Profile_likelihood_ratio import Profile_likelihood_ratio_result"
   ]
  },
  {
   "cell_type": "code",
   "execution_count": 34,
   "metadata": {
    "collapsed": false
   },
   "outputs": [
    {
     "name": "stdout",
     "output_type": "stream",
     "text": [
      "::: output_file         : mod_fact_out_ndata_1000_nexp_1000\n",
      "::: output_tag          : bar\n",
      "::: true_mu             : 0.0\n",
      "::: n_data              : 1000\n",
      "::: data_generator_name : gaus\n",
      "::: debug_level         : 0\n",
      "::: true_sigma          : 1.0\n",
      "::: n_exp               : 1000\n",
      "::: model               : m2_log_likelihood_gaus\n",
      "::: confidence_level    : [0.954499736104, 0.682689492137]\n",
      "::: poi_name            : mu\n",
      "::: Iteration 0 (1000 to go)\n",
      "::: Iteration 100 (900 to go)\n",
      "::: Iteration 200 (800 to go)\n",
      "::: Iteration 300 (700 to go)\n",
      "::: Iteration 400 (600 to go)\n",
      "::: Iteration 500 (500 to go)\n",
      "::: Iteration 600 (400 to go)\n",
      "::: Iteration 700 (300 to go)\n",
      "::: Iteration 800 (200 to go)\n",
      "::: Iteration 900 (100 to go)\n",
      "::: Time to run 1000 iterations: 33.108864069\n",
      "::: Time to create result dict: 0.00462603569031\n",
      "::: Time to create result data frame: 0.00292015075684\n"
     ]
    }
   ],
   "source": [
    "plr_fatory = Profile_likelihood_ratio_Factory(  n_exp=1000, \n",
    "                                                n_data=1000, \n",
    "                                                true_mu=0., true_sigma=1., \n",
    "                                                data_generator_name='gaus',\n",
    "                                                model='m2_log_likelihood_gaus',\n",
    "                                                parameter_of_interest='mu',\n",
    "                                                debug_level=0, \n",
    "                                                output_tag='bar', \n",
    "                                                confidence_level=[0.954499736104, 0.682689492137],\n",
    "                                             )\n",
    "\n",
    "\n",
    "df = plr_fatory.run()"
   ]
  },
  {
   "cell_type": "code",
   "execution_count": 35,
   "metadata": {
    "collapsed": false
   },
   "outputs": [
    {
     "data": {
      "image/png": "[encoded data removed]",
      "text/plain": [
       "<matplotlib.figure.Figure at 0x7f6c6093a1d0>"
      ]
     },
     "metadata": {},
     "output_type": "display_data"
    }
   ],
   "source": [
    "_ = plt.hist(plr_fatory.data_frame_result['poi_mle'], 50)"
   ]
  },
  {
   "cell_type": "code",
   "execution_count": 36,
   "metadata": {
    "collapsed": false
   },
   "outputs": [],
   "source": [
    "df['true_mu_in_c_0'] = df.apply(lambda x : 1 if x['true_mu']<x['ci_poi_max'][0] and x['true_mu']>x['ci_poi_min'][0] else 0, axis=1)\n",
    "df['true_mu_in_c_1'] = df.apply(lambda x : 1 if x['true_mu']<x['ci_poi_max'][1] and x['true_mu']>x['ci_poi_min'][1] else 0, axis=1)"
   ]
  },
  {
   "cell_type": "code",
   "execution_count": 37,
   "metadata": {
    "collapsed": false
   },
   "outputs": [
    {
     "name": "stdout",
     "output_type": "stream",
     "text": [
      "0.657\n",
      "0.967\n"
     ]
    }
   ],
   "source": [
    "print float(df.true_mu_in_c_1.sum())/len(df)\n",
    "print float(df.true_mu_in_c_0.sum())/len(df)"
   ]
  }
 ],
 "metadata": {
  "kernelspec": {
   "display_name": "Python 2",
   "language": "python",
   "name": "python2"
  },
  "language_info": {
   "codemirror_mode": {
    "name": "ipython",
    "version": 2
   },
   "file_extension": ".py",
   "mimetype": "text/x-python",
   "name": "python",
   "nbconvert_exporter": "python",
   "pygments_lexer": "ipython2",
   "version": "2.7.11"
  }
 },
 "nbformat": 4,
 "nbformat_minor": 0
}
