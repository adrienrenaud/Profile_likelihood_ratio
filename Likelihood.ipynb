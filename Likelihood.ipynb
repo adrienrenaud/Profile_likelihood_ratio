{
 "cells": [
  {
   "cell_type": "code",
   "execution_count": 1,
   "metadata": {
    "collapsed": false
   },
   "outputs": [],
   "source": [
    "%load_ext autoreload\n",
    "%autoreload 2"
   ]
  },
  {
   "cell_type": "code",
   "execution_count": 2,
   "metadata": {
    "collapsed": true
   },
   "outputs": [],
   "source": [
    "import numpy as np\n",
    "import scipy as sp\n",
    "import matplotlib.pyplot as plt\n",
    "from scipy.optimize import minimize as sp_minimize\n",
    "%matplotlib inline"
   ]
  },
  {
   "cell_type": "code",
   "execution_count": 3,
   "metadata": {
    "collapsed": false
   },
   "outputs": [],
   "source": [
    "from Likelihood import Model, ModelFactory\n",
    "from Likelihood import Profile_likelihood_ratio_result"
   ]
  },
  {
   "cell_type": "code",
   "execution_count": 4,
   "metadata": {
    "collapsed": true
   },
   "outputs": [],
   "source": [
    "n_data = 10000\n",
    "mu = 0.\n",
    "sigma = 1.\n",
    "np.random.seed(1)\n",
    "data = np.random.normal(mu, sigma, n_data)"
   ]
  },
  {
   "cell_type": "code",
   "execution_count": 5,
   "metadata": {
    "collapsed": false
   },
   "outputs": [],
   "source": [
    "model = Model()\n",
    "model.debug_level = 0\n",
    "model.set_data(data)\n",
    "model.set_score_function('m2_log_likelihood_gaus')"
   ]
  },
  {
   "cell_type": "code",
   "execution_count": 6,
   "metadata": {
    "collapsed": false,
    "scrolled": true
   },
   "outputs": [
    {
     "name": "stdout",
     "output_type": "stream",
     "text": [
      "::: Minimization Failed in unconstraint_fit!!!!!!\n",
      "      fun: 28354.472784155514\n",
      " hess_inv: array([[  5.43903990e-05,  -1.67376867e-06],\n",
      "       [ -1.67376867e-06,   2.16476506e-05]])\n",
      "      jac: array([ 0.00024414,  0.00048828])\n",
      "  message: 'Desired error not necessarily achieved due to precision loss.'\n",
      "     nfev: 124\n",
      "      nit: 11\n",
      "     njev: 28\n",
      "   status: 2\n",
      "  success: False\n",
      "        x: array([ 0.00977266,  0.99878585])\n",
      "::: Minimization Failed in unconstraint_fit!!!!!!\n",
      "      fun: 28354.472784155514\n",
      " hess_inv: array([[  5.43903990e-05,  -1.67376867e-06],\n",
      "       [ -1.67376867e-06,   2.16476506e-05]])\n",
      "      jac: array([ 0.00024414,  0.00048828])\n",
      "  message: 'Desired error not necessarily achieved due to precision loss.'\n",
      "     nfev: 124\n",
      "      nit: 11\n",
      "     njev: 28\n",
      "   status: 2\n",
      "  success: False\n",
      "        x: array([ 0.00977266,  0.99878585])\n"
     ]
    },
    {
     "name": "stderr",
     "output_type": "stream",
     "text": [
      "Likelihood.py:88: RuntimeWarning: invalid value encountered in log\n",
      "  f1 = 2 * self.n_data * ( np.log(params[1]) + self.log_sqrt_2pi)\n"
     ]
    }
   ],
   "source": [
    "model.profile_likelihood_ratio_ci()\n",
    "model.compute_common_stat_on_data()\n",
    "model.profile_likelihood_ratio_curve()\n",
    "res = model.plr_res"
   ]
  },
  {
   "cell_type": "code",
   "execution_count": 7,
   "metadata": {
    "collapsed": false
   },
   "outputs": [
    {
     "name": "stderr",
     "output_type": "stream",
     "text": [
      "/home/renaud/anaconda2/envs/main_env/lib/python2.7/site-packages/matplotlib/figure.py:397: UserWarning: matplotlib is currently using a non-GUI backend, so cannot show the figure\n",
      "  \"matplotlib is currently using a non-GUI backend, \"\n"
     ]
    },
    {
     "data": {
      "image/png": "[encoded data removed]",
      "text/plain": [
       "<matplotlib.figure.Figure at 0x7f9b72bf9c10>"
      ]
     },
     "metadata": {},
     "output_type": "display_data"
    }
   ],
   "source": [
    "from Likelihood import Profile_likelihood_ratio_result\n",
    "res.plot_profile_likehood_curve_and_ci()"
   ]
  },
  {
   "cell_type": "code",
   "execution_count": 8,
   "metadata": {
    "collapsed": false
   },
   "outputs": [
    {
     "name": "stdout",
     "output_type": "stream",
     "text": [
      "(array([ 0.01976047, -0.00021516]), array([ 1.,  1.]))\n",
      "(array([ 0.02975163, -0.01020631]), array([ 4.,  4.]))\n"
     ]
    },
    {
     "data": {
      "image/png": "[encoded data removed]",
      "text/plain": [
       "<matplotlib.figure.Figure at 0x7f9b6fdcb2d0>"
      ]
     },
     "metadata": {},
     "output_type": "display_data"
    }
   ],
   "source": [
    "## need to use deg=3 and filter values outside x range\n",
    "def quadratic_intersections(p, q):\n",
    "    \"\"\"Given two quadratics p and q, determines the points of intersection\"\"\"\n",
    "    x = np.roots(np.asarray(p) - np.asarray(q))\n",
    "    y = np.polyval(p, x)\n",
    "    return x, y\n",
    "\n",
    "poly = np.polyfit(res.pois, res.plr, deg=2)\n",
    "y_int  = np.polyval(poly, res.pois)\n",
    "ix_1 = quadratic_intersections(poly, [ 0, 0, 1])\n",
    "ix_4 = quadratic_intersections(poly, [ 0, 0, 4])\n",
    "plt.scatter(*ix_4, marker='x', color='black', s=40, linewidth=2)\n",
    "print ix_1\n",
    "print ix_4"
   ]
  },
  {
   "cell_type": "code",
   "execution_count": null,
   "metadata": {
    "collapsed": true
   },
   "outputs": [],
   "source": [
    "for i in range(1000):"
   ]
  },
  {
   "cell_type": "code",
   "execution_count": 17,
   "metadata": {
    "collapsed": false
   },
   "outputs": [
    {
     "name": "stdout",
     "output_type": "stream",
     "text": [
      "toto\n"
     ]
    }
   ],
   "source": [
    "if not 2000%10:\n",
    "    print 'toto'"
   ]
  },
  {
   "cell_type": "code",
   "execution_count": 16,
   "metadata": {
    "collapsed": false
   },
   "outputs": [
    {
     "data": {
      "text/plain": [
       "0"
      ]
     },
     "execution_count": 16,
     "metadata": {},
     "output_type": "execute_result"
    }
   ],
   "source": [
    "1000%10"
   ]
  },
  {
   "cell_type": "code",
   "execution_count": 18,
   "metadata": {
    "collapsed": false
   },
   "outputs": [
    {
     "ename": "NameError",
     "evalue": "name 'dview' is not defined",
     "output_type": "error",
     "traceback": [
      "\u001b[1;31m---------------------------------------------------------------------------\u001b[0m",
      "\u001b[1;31mNameError\u001b[0m                                 Traceback (most recent call last)",
      "\u001b[1;32m<ipython-input-18-90bbe0fe2c1c>\u001b[0m in \u001b[0;36m<module>\u001b[1;34m()\u001b[0m\n\u001b[0;32m      1\u001b[0m \u001b[0mA\u001b[0m \u001b[1;33m=\u001b[0m \u001b[0mnp\u001b[0m\u001b[1;33m.\u001b[0m\u001b[0mrandom\u001b[0m\u001b[1;33m.\u001b[0m\u001b[0mrandom\u001b[0m\u001b[1;33m(\u001b[0m\u001b[1;33m(\u001b[0m\u001b[1;36m64\u001b[0m\u001b[1;33m,\u001b[0m\u001b[1;36m48\u001b[0m\u001b[1;33m)\u001b[0m\u001b[1;33m)\u001b[0m\u001b[1;33m\u001b[0m\u001b[0m\n\u001b[0;32m      2\u001b[0m \u001b[1;33m\u001b[0m\u001b[0m\n\u001b[1;32m----> 3\u001b[1;33m \u001b[1;33m@\u001b[0m\u001b[0mdview\u001b[0m\u001b[1;33m.\u001b[0m\u001b[0mparallel\u001b[0m\u001b[1;33m(\u001b[0m\u001b[0mblock\u001b[0m\u001b[1;33m=\u001b[0m\u001b[0mTrue\u001b[0m\u001b[1;33m)\u001b[0m\u001b[1;33m\u001b[0m\u001b[0m\n\u001b[0m\u001b[0;32m      4\u001b[0m \u001b[1;32mdef\u001b[0m \u001b[0mpmul\u001b[0m\u001b[1;33m(\u001b[0m\u001b[0mA\u001b[0m\u001b[1;33m,\u001b[0m\u001b[0mB\u001b[0m\u001b[1;33m)\u001b[0m\u001b[1;33m:\u001b[0m\u001b[1;33m\u001b[0m\u001b[0m\n\u001b[0;32m      5\u001b[0m      \u001b[1;32mreturn\u001b[0m \u001b[0mA\u001b[0m\u001b[1;33m*\u001b[0m\u001b[0mB\u001b[0m\u001b[1;33m\u001b[0m\u001b[0m\n",
      "\u001b[1;31mNameError\u001b[0m: name 'dview' is not defined"
     ]
    }
   ],
   "source": [
    "A = np.random.random((64,48))\n",
    "\n",
    "@dview.parallel(block=True)\n",
    "def pmul(A,B):\n",
    "     return A*B\n",
    "C_local = A*A\n",
    "\n",
    "C_remote = pmul(A,A)\n",
    "(C_local == C_remote).all()\n"
   ]
  },
  {
   "cell_type": "code",
   "execution_count": 22,
   "metadata": {
    "collapsed": false
   },
   "outputs": [
    {
     "ename": "ImportError",
     "evalue": "No module named Ipyparallel",
     "output_type": "error",
     "traceback": [
      "\u001b[1;31m---------------------------------------------------------------------------\u001b[0m",
      "\u001b[1;31mImportError\u001b[0m                               Traceback (most recent call last)",
      "\u001b[1;32m<ipython-input-22-ce83feea8afa>\u001b[0m in \u001b[0;36m<module>\u001b[1;34m()\u001b[0m\n\u001b[1;32m----> 1\u001b[1;33m \u001b[1;32mfrom\u001b[0m \u001b[0mIPython\u001b[0m\u001b[1;33m.\u001b[0m\u001b[0mIpyparallel\u001b[0m \u001b[1;32mimport\u001b[0m \u001b[0mClient\u001b[0m\u001b[1;33m\u001b[0m\u001b[0m\n\u001b[0m",
      "\u001b[1;31mImportError\u001b[0m: No module named Ipyparallel"
     ]
    }
   ],
   "source": [
    "from IPython.Ipyparallel import Client"
   ]
  }
 ],
 "metadata": {
  "kernelspec": {
   "display_name": "Python 2",
   "language": "python",
   "name": "python2"
  },
  "language_info": {
   "codemirror_mode": {
    "name": "ipython",
    "version": 2
   },
   "file_extension": ".py",
   "mimetype": "text/x-python",
   "name": "python",
   "nbconvert_exporter": "python",
   "pygments_lexer": "ipython2",
   "version": "2.7.11"
  }
 },
 "nbformat": 4,
 "nbformat_minor": 0
}
