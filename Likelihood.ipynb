{
 "cells": [
  {
   "cell_type": "code",
   "execution_count": 1,
   "metadata": {
    "collapsed": false
   },
   "outputs": [],
   "source": [
    "import numpy as np\n",
    "import scipy as sp\n",
    "import matplotlib.pyplot as plt\n",
    "from scipy.optimize import minimize as sp_minimize\n",
    "%matplotlib inline"
   ]
  },
  {
   "cell_type": "code",
   "execution_count": 2,
   "metadata": {
    "collapsed": false
   },
   "outputs": [],
   "source": [
    "class Model(object):\n",
    "    def __init__(self):\n",
    "        self.debug_level = 0 \n",
    "        self.log_sqrt_2pi = np.log(np.sqrt(2*np.pi))\n",
    " \n",
    "        self.set_score_function()\n",
    "        self.plr_res = profile_likelihood_ratio_result()\n",
    "\n",
    "        self.n_params = 2\n",
    "        self.params_dict = dict([(str(p_num), p_num) for p_num in range(self.n_params)])\n",
    "        self.initial_values = [1.]*self.n_params\n",
    "        \n",
    "        self.constraints = ()\n",
    "        \n",
    "        self.set_data(np.array([], dtype=float))\n",
    "        \n",
    "    def set_data(self, data):\n",
    "        try:\n",
    "            _ = (data + data)**2\n",
    "            _ = _.sum()\n",
    "        except:\n",
    "            print '::: Data isnt good enought! Puting data=np.zeros(100)'\n",
    "            data=np.zeros(100)\n",
    "            \n",
    "        if self.debug_level>0:\n",
    "            print '::: Data type:', type(data)\n",
    "            try:\n",
    "                print '::: Data element dtype:', data.dtype\n",
    "            except AttributeError:\n",
    "                print '::: Data element has no dtype attribute'\n",
    "                \n",
    "        self.data = data\n",
    "        self.n_data = len(data)\n",
    "    \n",
    "\n",
    "    def reset_constraints(self):\n",
    "        self.constraints = ()\n",
    "    def set_constraint(self, param_name='0', value=1.):\n",
    "        param_num = self.params_dict[param_name]\n",
    "        self.constraints += ({'type': 'eq', 'fun': lambda x : x[param_num] - value},)\n",
    "        \n",
    "    def set_score_function(self, function_type='m2_log_likelihood_gaus'):\n",
    "        if function_type=='m2_log_likelihood_gaus':\n",
    "            self.n_params = 2\n",
    "            self.initial_values = [1.]*self.n_params\n",
    "            self.params_dict = {'mu': 0, 'sigma': 1}\n",
    "            self.score_function = self.m2_log_likelihood_gaus\n",
    "        else:\n",
    "            print '::: Unknow function type setting f(x) = x.sum()'\n",
    "            self.score_function = lambda x : x.sum()\n",
    "            \n",
    "    def m2_log_likelihood_gaus(self, params):\n",
    "        ## params = [mu, sigma]\n",
    "        f1 = 2 * self.n_data * ( np.log(params[1]) + self.log_sqrt_2pi)\n",
    "        f2_vect = (self.data - params[0])**2 / params[1]**2\n",
    "        f2 = f2_vect.sum()\n",
    "        return f1 + f2\n",
    "    \n",
    "    def minimize(self):\n",
    "        if self.debug_level>0:\n",
    "            print '-'*90\n",
    "            print '::: initial values:', self.initial_values\n",
    "            print '::: constraints:', self.constraints\n",
    "    \n",
    "        res = sp_minimize(self, self.initial_values, constraints=self.constraints)\n",
    "\n",
    "        if self.debug_level>0:\n",
    "            print res\n",
    "        return res\n",
    "        \n",
    "    def __call__(self, params):\n",
    "        return self.score_function(params)\n",
    "\n",
    "    def profile_likelihood_ratio_curve(self):\n",
    "        ### options\n",
    "        param_of_interest = 'mu'\n",
    "        poi_n_steps = 50\n",
    "        poi_param_num = self.params_dict[param_of_interest]\n",
    "        \n",
    "        ### create object to store results\n",
    "        #plr_res = profile_likelihood_ratio_result()\n",
    "        self.plr_res.poi_name = param_of_interest\n",
    "        \n",
    "        ### get MLE\n",
    "        self.reset_constraints()\n",
    "        res_hat = self.minimize() \n",
    "        if not res_hat.success:\n",
    "            print '::: Minimization Failed!!!!!!'\n",
    "        self.plr_res.poi_mle = res_hat.x[poi_param_num]\n",
    "        self.plr_res.score_poi_mle = res_hat.fun\n",
    "        \n",
    "        ### set poi range for PLR from Hessian \n",
    "        ### delta_poi = sqrt(2*H^-1) for -2 ln(L)\n",
    "        ### -2*log(PLR) as a chi2_1 distribution (chi2=1 => 68%, chi2=4 => 95%)\n",
    "        delta_poi = np.sqrt(2*res_hat.hess_inv[poi_param_num, poi_param_num])\n",
    "        n_sigma = 3.\n",
    "        poi_start =  self.plr_res.poi_mle - n_sigma * delta_poi \n",
    "        poi_stop = self.plr_res.poi_mle + n_sigma * delta_poi \n",
    "        poi_range = np.linspace(poi_start, poi_stop, poi_n_steps, endpoint=True)\n",
    "        \n",
    "        ### Estimate L around MLE\n",
    "        for i, poi in enumerate(poi_range):\n",
    "            self.reset_constraints()\n",
    "            self.set_constraint(param_of_interest, poi)\n",
    "            res = self.minimize()\n",
    "            if not res.success:\n",
    "                print '::: Minimization Failed!!!!!!'\n",
    "            self.plr_res.pois.append(poi)\n",
    "            self.plr_res.scores_poi.append(res.fun)\n",
    "\n",
    "        self.plr_res.compute_plr()\n",
    "\n",
    "        return self.plr_res\n",
    "    \n",
    "class profile_likelihood_ratio_result(object):\n",
    "    def __init__(self):\n",
    "        self.poi_name = 'mu'\n",
    "        self.poi_mle = 0.\n",
    "        self.score_poi_mle = 100.\n",
    "        self.pois = []\n",
    "        self.scores_poi = []\n",
    "    def compute_plr(self):\n",
    "        self.plr = [score_poi - self.score_poi_mle for score_poi in self.scores_poi]\n",
    "\n",
    "        "
   ]
  },
  {
   "cell_type": "code",
   "execution_count": 3,
   "metadata": {
    "collapsed": true
   },
   "outputs": [],
   "source": [
    "n_data = 10000\n",
    "mu = 0.\n",
    "sigma = 1.\n",
    "data = np.random.normal(mu, sigma, n_data)"
   ]
  },
  {
   "cell_type": "code",
   "execution_count": 4,
   "metadata": {
    "collapsed": false
   },
   "outputs": [],
   "source": [
    "model = Model()\n",
    "\n",
    "model.debug_level = 0\n",
    "\n",
    "model.set_data(data)\n",
    "model.set_score_function('m2_log_likelihood_gaus')"
   ]
  },
  {
   "cell_type": "code",
   "execution_count": 5,
   "metadata": {
    "collapsed": false
   },
   "outputs": [
    {
     "name": "stderr",
     "output_type": "stream",
     "text": [
      "/home/renaud/anaconda2/envs/main_env/lib/python2.7/site-packages/ipykernel/__main__.py:54: RuntimeWarning: invalid value encountered in log\n"
     ]
    }
   ],
   "source": [
    "res = model.profile_likelihood_ratio_curve()"
   ]
  },
  {
   "cell_type": "code",
   "execution_count": 6,
   "metadata": {
    "collapsed": false
   },
   "outputs": [
    {
     "name": "stdout",
     "output_type": "stream",
     "text": [
      "(array([ 0.01317972, -0.00660092]), array([ 1.,  1.]))\n",
      "(array([ 0.02307281, -0.01649401]), array([ 4.,  4.]))\n"
     ]
    }
   ],
   "source": [
    "## need to use deg=3 and filter values outside x range\n",
    "def quadratic_intersections(p, q):\n",
    "    \"\"\"Given two quadratics p and q, determines the points of intersection\"\"\"\n",
    "    x = np.roots(np.asarray(p) - np.asarray(q))\n",
    "    y = np.polyval(p, x)\n",
    "    return x, y\n",
    "\n",
    "poly = np.polyfit(res.pois, res.plr, deg=2)\n",
    "y_int  = np.polyval(poly, res.pois)\n",
    "ix_1 = quadratic_intersections(poly, [ 0, 0, 1])\n",
    "ix_4 = quadratic_intersections(poly, [ 0, 0, 4])\n",
    "print ix_1\n",
    "print ix_4"
   ]
  },
  {
   "cell_type": "code",
   "execution_count": 7,
   "metadata": {
    "collapsed": false
   },
   "outputs": [
    {
     "data": {
      "image/png": "[encoded data removed]",
      "text/plain": [
       "<matplotlib.figure.Figure at 0x7fb6f5cda050>"
      ]
     },
     "metadata": {},
     "output_type": "display_data"
    }
   ],
   "source": [
    "plt.figure(figsize = (7,7))\n",
    "plt.subplot(111)\n",
    "plt.plot(res.pois, res.plr)\n",
    "s1 = plt.axhline(1, linewidth=1, color='k')\n",
    "s4 = plt.axhline(4, linewidth=1, color='k')\n",
    "plt.scatter(*ix_1, marker='x', color='black', s=40, linewidth=2)\n",
    "plt.scatter(*ix_4, marker='x', color='black', s=40, linewidth=2)\n",
    "plt.xlabel('X')\n",
    "plt.ylabel('Y')\n",
    "plt.ylim(bottom=0)\n",
    "plt.show()"
   ]
  }
 ],
 "metadata": {
  "kernelspec": {
   "display_name": "Python 2",
   "language": "python",
   "name": "python2"
  },
  "language_info": {
   "codemirror_mode": {
    "name": "ipython",
    "version": 2
   },
   "file_extension": ".py",
   "mimetype": "text/x-python",
   "name": "python",
   "nbconvert_exporter": "python",
   "pygments_lexer": "ipython2",
   "version": "2.7.11"
  }
 },
 "nbformat": 4,
 "nbformat_minor": 0
}
